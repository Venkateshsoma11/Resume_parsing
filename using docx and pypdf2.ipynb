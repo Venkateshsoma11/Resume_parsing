{
 "cells": [
  {
   "cell_type": "code",
   "execution_count": 1,
   "metadata": {},
   "outputs": [
    {
     "name": "stdout",
     "output_type": "stream",
     "text": [
      "Enter file name resume.docx\n",
      "Phone number =  9010838984\n",
      "Address = EWS-1215 \tKPHB Hyderabad\n"
     ]
    }
   ],
   "source": [
    "import os.path\n",
    "import re\n",
    "\n",
    "home = os.path.expanduser(\"~\")\n",
    "fname = input(\"Enter file name \")\n",
    "abspath = os.path.join(home,fname)\n",
    "str_ = \"\"\n",
    "ext = os.path.splitext(abspath)[1]\n",
    "if ext == \".docx\":\n",
    "    from docx import Document\n",
    "    doc = Document(abspath)\n",
    "    for i in doc.paragraphs:\n",
    "        str_ += i.text\n",
    "elif ext == \".pdf\":\n",
    "    import PyPDF2\n",
    "    with open(abspath, \"rb\") as pdf:\n",
    "        pdfr = PyPDF2.PdfFileReader(pdf)\n",
    "        for i in range(pdfr.numPages):\n",
    "            str_ += pdfr.getPage(i).extractText()\n",
    "\n",
    "re.sub(\" +\",\" \",str_)\n",
    "num =re.compile(r\"(?<=Phone no.:)[\\s]*[+91]?\\d{10}\")\n",
    "address = re.compile(r\"(?<=Address:)[\\s]*(.*?)(?=[.][\\s]*Phone)\")\n",
    "if num.search(str_).group() is None:\n",
    "    print(\"Phone number not found\")\n",
    "else:\n",
    "    print(\"Phone number = \"+num.search(str_).group())\n",
    "if address.search(str_).group() is None:\n",
    "    print(\"Address not found\")\n",
    "else:\n",
    "    print(\"Address = \"+address.search(str_).group().replace(\" \",\"\").replace(\",\",\" \"))"
   ]
  },
  {
   "cell_type": "code",
   "execution_count": null,
   "metadata": {
    "scrolled": true
   },
   "outputs": [],
   "source": []
  },
  {
   "cell_type": "code",
   "execution_count": null,
   "metadata": {
    "collapsed": true
   },
   "outputs": [],
   "source": []
  }
 ],
 "metadata": {
  "kernelspec": {
   "display_name": "Python 3",
   "language": "python",
   "name": "python3"
  },
  "language_info": {
   "codemirror_mode": {
    "name": "ipython",
    "version": 3
   },
   "file_extension": ".py",
   "mimetype": "text/x-python",
   "name": "python",
   "nbconvert_exporter": "python",
   "pygments_lexer": "ipython3",
   "version": "3.6.1"
  }
 },
 "nbformat": 4,
 "nbformat_minor": 2
}
