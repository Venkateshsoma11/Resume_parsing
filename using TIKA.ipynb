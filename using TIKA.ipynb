{
 "cells": [
  {
   "cell_type": "code",
   "execution_count": 12,
   "metadata": {},
   "outputs": [
    {
     "name": "stdout",
     "output_type": "stream",
     "text": [
      "Enter file name resume.docx\n",
      "Phone number =  9010838984\n",
      "Address not found\n",
      "Email = somavenkatesh01@gmail.com\n"
     ]
    }
   ],
   "source": [
    "import os.path\n",
    "\n",
    "import re\n",
    "home = os.path.expanduser(\"~\")\n",
    "fname = input(\"Enter file name \")\n",
    "abspath = os.path.join(home,fname)\n",
    "str_ = \"\"\n",
    "if os.path.exists(abspath) and os.path.isfile(abspath):\n",
    "    from tika import parser\n",
    "    data = parser.from_file(abspath)\n",
    "    str_ = data[\"content\"]\n",
    "    num =re.compile(r\"(?<=Phone no.:)[\\s]*[+91]?\\d{10}\")\n",
    "    address = re.compile(r"(?is)(?<=Address)([:]?)([\s]*)(.*?)[0-9][.]?\n")
    "    ad=re.findall(address,str)     
    "    ad
    "    ad=list(adresult)
    "    for i in ad:
    "        j=list(i)
    "        for k in j:
    "             (print(k.replace("\n"," ")))
   
    "    email = re.compile(r"[A-Z0-9._%+-]+@[A-Z0-9.-]+\.[A-Z]{2,4}", re.IGNORECASE)
    "    if num.search(str_) is None:\n",
    "        print(\"Phone number not found\")\n",
    "    else:\n",
    "        print(\"Phone number = \"+num.search(str_).group())\n",
    "    
    "    if email.search(str_) is None:\n",
    "        print(\"Email id not found\")\n",
    "    else:\n",
    "        print(\"Email = \"+email.search(str_).group(3))\n",
    "\n",
    "else:\n",
    "    print(\"File not found\")\n"
   ]
  },
  {
   "cell_type": "code",
   "execution_count": null,
   "metadata": {
    "collapsed": true
   },
   "outputs": [],
   "source": []
  }
 ],
 "metadata": {
  "kernelspec": {
   "display_name": "Python 3",
   "language": "python",
   "name": "python3"
  },
  "language_info": {
   "codemirror_mode": {
    "name": "ipython",
    "version": 3
   },
   "file_extension": ".py",
   "mimetype": "text/x-python",
   "name": "python",
   "nbconvert_exporter": "python",
   "pygments_lexer": "ipython3",
   "version": "3.6.1"
  }
 },
 "nbformat": 4,
 "nbformat_minor": 2
}
