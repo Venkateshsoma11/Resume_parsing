{
 "cells": [
  {
   "cell_type": "code",
   "execution_count": 3,
   "metadata": {},
   "outputs": [
    {
     "name": "stdout",
     "output_type": "stream",
     "text": [
      "Enter file name resume.docx\n",
      ":\n",
      " \n",
      "EWS-1215, \t    KPHB,                 Hyderabad\n",
      "Phone number =  9010838984\n",
      "email is somavenkatesh01@gmail.com\n"
     ]
    }
   ],
   "source": [
    "import os.path\n",
    "\n",
    "import re\n",
    "home = os.path.expanduser(\"~\")\n",
    "fname = input(\"Enter file name \")\n",
    "abspath = os.path.join(home,fname)\n",
    "str= \"\"\n",
    "if os.path.exists(abspath) and os.path.isfile(abspath):\n",
    "    from tika import parser\n",
    "    data = parser.from_file(abspath)\n",
    "    str= data[\"content\"]\n",
    "    num =re.compile(r\"(?<=Phone no.:)[\\s]*[+91]?\\d{10}\")\n",
    "    address = re.compile(r\"(?is)(?<=Address)([:]?)([\\s]*)(.*?)(?=[.][\\s]*Phone)\")\n",
    "    ad=re.findall(address,str)     \n",
    "    ad\n",
    "    ad=list(ad)\n",
    "    for i in ad:\n",
    "        j=list(i)\n",
    "        for k in j:\n",
    "            (print(k.replace(\"\\n\",\" \")))\n",
    "   \n",
    "    email = re.compile(r\"[A-Z0-9._%+-]+@[A-Z0-9.-]+\\.[A-Z]{2,4}\", re.IGNORECASE)\n",
    "   \n",
    "    \n",
    "    if num.search(str) is None:\n",
    "        print(\"Phone number not found\")\n",
    "    else:\n",
    "        print(\"Phone number = \"+num.search(str).group())\n",
    "\n",
    "    if email.search(str) is None:\n",
    "        print(\"Email not found\")\n",
    "    else:\n",
    "        print(\"email is \"+email.search(str).group())\n",
    "else:\n",
    "\n",
    "    print(\"File not found\")\n"
   ]
  },
  {
   "cell_type": "raw",
   "metadata": {
    "collapsed": true
   },
   "source": []
  },
  {
   "cell_type": "code",
   "execution_count": null,
   "metadata": {
    "collapsed": true
   },
   "outputs": [],
   "source": []
  }
 ],
 "metadata": {
  "kernelspec": {
   "display_name": "Python 3",
   "language": "python",
   "name": "python3"
  },
  "language_info": {
   "codemirror_mode": {
    "name": "ipython",
    "version": 3
   },
   "file_extension": ".py",
   "mimetype": "text/x-python",
   "name": "python",
   "nbconvert_exporter": "python",
   "pygments_lexer": "ipython3",
   "version": "3.6.1"
  }
 },
 "nbformat": 4,
 "nbformat_minor": 2
}
