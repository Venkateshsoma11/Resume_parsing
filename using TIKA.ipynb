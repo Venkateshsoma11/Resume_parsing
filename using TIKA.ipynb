{
 "cells": [
  {
   "cell_type": "code",
   "execution_count": null,
   "metadata": {},
   "outputs": [
    {
     "name": "stdout",
     "output_type": "stream",
     "text": [
      "Enter file name resume.docx\n"
     ]
    },
    {
     "name": "stderr",
     "output_type": "stream",
     "text": [
      "2017-08-26 00:26:43,814 [MainThread  ] [INFO ]  Retrieving http://search.maven.org/remotecontent?filepath=org/apache/tika/tika-server/1.15/tika-server-1.15.jar to C:\\Users\\Public\\Documents\\Wondershare\\CreatorTemp\\tika-server.jar.\n"
     ]
    }
   ],
   "source": [
    "import os.path\n",
    "\n",
    "\n",
    "home = os.path.expanduser(\"~\")\n",
    "fname = input(\"Enter file name \")\n",
    "abspath = os.path.join(home,fname)\n",
    "str_ = \"\"\n",
    "if os.path.exists(abspath) and os.path.isfile(abspath):\n",
    "    from tika import parser\n",
    "    data = parser.from_file(abspath)\n",
    "    str_ = data[\"content\"]\n",
    "    num = re.compile(r\"(?<=Phone no(.*?))[+91]?\\d{10}\")\n",
    "    address = re.compile(r\"(?<=Address)([:]?)([\\s]*)(.*?)\\.\",re.DOTALL)\n",
    "    email = re.compile(r\"(?<=Email)([:]?)([\\s]*)([a-zA-Z0-9._%-]+@[a-zA-Z0-9.-]+\\.[a-zA-Z]{2,3})\")\n",
    "    if num.search(str_) is None:\n",
    "        print(\"Phone number not found\")\n",
    "    else:\n",
    "        print(\"Phone number = \"+num.search(str_).group())\n",
    "    if address.search(str_) is None:\n",
    "        print(\"Address not found\")\n",
    "    else:\n",
    "        print(\"Address = \"+address.search(str_).group(3).replace(\"\\t\",\"\").replace(\" \",\"\").replace(\"\\n\",\" \"))\n",
    "    if email.search(str_) is None:\n",
    "        print(\"Email id not found\")\n",
    "    else:\n",
    "        print(\"Email = \"+email.search(str_).group(3))\n",
    "\n",
    "else:\n",
    "    print(\"File not found\")\n"
   ]
  },
  {
   "cell_type": "code",
   "execution_count": null,
   "metadata": {
    "collapsed": true
   },
   "outputs": [],
   "source": []
  }
 ],
 "metadata": {
  "kernelspec": {
   "display_name": "Python 3",
   "language": "python",
   "name": "python3"
  }
 },
 "nbformat": 4,
 "nbformat_minor": 2
}
