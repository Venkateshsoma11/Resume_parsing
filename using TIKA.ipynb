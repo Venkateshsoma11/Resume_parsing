{
 "cells": [
  {
   "cell_type": "code",
   "execution_count": 12,
   "metadata": {},
   "outputs": [
    {
     "name": "stdout",
     "output_type": "stream",
     "text": [
      "Enter file name resume.docx\n",
      "Phone number =  9010838984\n",
      "Address not found\n",
      "Email = somavenkatesh01@gmail.com\n"
     ]
    }
   ],
   "source": [
    "import os.path\n",
    "\n",
    "import re\n",
    "home = os.path.expanduser(\"~\")\n",
    "fname = input(\"Enter file name \")\n",
    "abspath = os.path.join(home,fname)\n",
    "str_ = \"\"\n",
    "if os.path.exists(abspath) and os.path.isfile(abspath):\n",
    "    from tika import parser\n",
    "    data = parser.from_file(abspath)\n",
    "    str_ = data[\"content\"]\n",
    "    num =re.compile(r\"(?<=Phone no.:)[\\s]*[+91]?\\d{10}\")\n",
    "    address = re.compile(r\"(?<=Address:)[\\s]*(.*?)(?=[.][\\s]*Phone)\")\n",
    "    email = re.compile(r\"(?<=Email)([:]?)([\\s]*)([a-zA-Z0-9._%-]+@[a-zA-Z0-9.-]+\\.[a-zA-Z]{2,3})\")\n",
    "    if num.search(str_) is None:\n",
    "        print(\"Phone number not found\")\n",
    "    else:\n",
    "        print(\"Phone number = \"+num.search(str_).group())\n",
    "    if address.search(str_) is None:\n",
    "        print(\"Address not found\")\n",
    "    else:\n",
    "        print(\"Address = \"+address.search(str_).group(3).replace(\"\\t\",\"\").replace(\" \",\"\").replace(\"\\n\",\" \"))\n",
    "    if email.search(str_) is None:\n",
    "        print(\"Email id not found\")\n",
    "    else:\n",
    "        print(\"Email = \"+email.search(str_).group(3))\n",
    "\n",
    "else:\n",
    "    print(\"File not found\")\n"
   ]
  },
  {
   "cell_type": "code",
   "execution_count": null,
   "metadata": {
    "collapsed": true
   },
   "outputs": [],
   "source": []
  }
 ],
 "metadata": {
  "kernelspec": {
   "display_name": "Python 3",
   "language": "python",
   "name": "python3"
  },
  "language_info": {
   "codemirror_mode": {
    "name": "ipython",
    "version": 3
   },
   "file_extension": ".py",
   "mimetype": "text/x-python",
   "name": "python",
   "nbconvert_exporter": "python",
   "pygments_lexer": "ipython3",
   "version": "3.6.1"
  }
 },
 "nbformat": 4,
 "nbformat_minor": 2
}
